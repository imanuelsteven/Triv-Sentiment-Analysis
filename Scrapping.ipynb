{
 "cells": [
  {
   "cell_type": "markdown",
   "id": "d61f05b1",
   "metadata": {},
   "source": [
    "# About Code\n",
    "kode dibawah ini adalah kode yang saya buat untuk melakukan scrapping data ulasan aplikasi Triv, yang bersumber dari Google Playstore. kode ini akan menghasilkan data ulasan yang berisikan beberapa kolom yaitu :\n",
    "\n",
    "1. reviewId - Id ulasan\n",
    "\n",
    "2. userName - Username dari pengulas aplikasi\n",
    "\n",
    "3. userImage - Foto rofil dari pengulas aplikasi\n",
    "\n",
    "4. content - isi ulasan pengguna\n",
    "\n",
    "5. score - Score bintang kepuasan pengguna\n",
    "\n",
    "6. thumbsUpCount - Jumlah like ulasan\n",
    "\n",
    "7. reviewCreatedVersion - Versi aplikasi ketika ulasan dibuat\n",
    "\n",
    "8. at - Waktu ulasan dibuat\n",
    "\n",
    "9. replyContent - balasaan dari pihak aplikasi\n",
    "\n",
    "10. repliedAt - Waktu balasan\n",
    "\n",
    "11. appVersion - versi aplikasi"
   ]
  },
  {
   "cell_type": "code",
   "execution_count": 1,
   "id": "998216f3",
   "metadata": {},
   "outputs": [],
   "source": [
    "# Mengimpor pustaka google_play_scraper untuk mengakses ulasan dan informasi aplikasi dari Google Play Store.\n",
    "from google_play_scraper import app, reviews, Sort, reviews_all\n",
    "import pandas as pd"
   ]
  },
  {
   "cell_type": "code",
   "execution_count": 4,
   "id": "10c65df3",
   "metadata": {},
   "outputs": [],
   "source": [
    "scrapreview = reviews_all(\n",
    "    'id.co.triv',       # ID aplikasi\n",
    "    lang='id',               # Bahasa ulasan (default: 'en')\n",
    "    country='id',            # Negara (default: 'us')\n",
    "    sort=Sort.MOST_RELEVANT, # Urutan ulasan (default: Sort.MOST_RELEVANT)\n",
    "    count=10000              # Jumlah maksimum ulasan yang ingin diambil\n",
    ")  "
   ]
  },
  {
   "cell_type": "code",
   "execution_count": 6,
   "id": "f7719a86",
   "metadata": {},
   "outputs": [
    {
     "data": {
      "text/plain": [
       "12665"
      ]
     },
     "execution_count": 6,
     "metadata": {},
     "output_type": "execute_result"
    }
   ],
   "source": [
    "len(scrapreview)"
   ]
  },
  {
   "cell_type": "code",
   "execution_count": 7,
   "id": "55b434e2",
   "metadata": {},
   "outputs": [],
   "source": [
    "df = pd.DataFrame(scrapreview)"
   ]
  },
  {
   "cell_type": "code",
   "execution_count": 8,
   "id": "12ba7a1e",
   "metadata": {},
   "outputs": [
    {
     "data": {
      "application/vnd.microsoft.datawrangler.viewer.v0+json": {
       "columns": [
        {
         "name": "index",
         "rawType": "int64",
         "type": "integer"
        },
        {
         "name": "reviewId",
         "rawType": "object",
         "type": "string"
        },
        {
         "name": "userName",
         "rawType": "object",
         "type": "string"
        },
        {
         "name": "userImage",
         "rawType": "object",
         "type": "string"
        },
        {
         "name": "content",
         "rawType": "object",
         "type": "string"
        },
        {
         "name": "score",
         "rawType": "int64",
         "type": "integer"
        },
        {
         "name": "thumbsUpCount",
         "rawType": "int64",
         "type": "integer"
        },
        {
         "name": "reviewCreatedVersion",
         "rawType": "object",
         "type": "string"
        },
        {
         "name": "at",
         "rawType": "datetime64[ns]",
         "type": "datetime"
        },
        {
         "name": "replyContent",
         "rawType": "object",
         "type": "unknown"
        },
        {
         "name": "repliedAt",
         "rawType": "datetime64[ns]",
         "type": "datetime"
        },
        {
         "name": "appVersion",
         "rawType": "object",
         "type": "string"
        }
       ],
       "ref": "f72707fa-73d2-4d7a-8ecd-4e9fe36f67d7",
       "rows": [
        [
         "0",
         "41dff01f-cf34-4128-9369-aad8cc1a0d2e",
         "Pengguna Google",
         "https://play-lh.googleusercontent.com/EGemoI2NTXmTsBVtJqk8jxF9rh8ApRWfsIMQSt2uE4OcpQqbFu7f7NbTK05lx80nuSijCz7sc3a277R67g",
         "Triv adalah aplikasi yang luar biasa untuk bertransaksi! Sebagai seorang pedagang, saya merasa aplikasi ini sangat membantu dengan berbagai pilihan deposit yang membuat prosesnya lancar dan nyaman. Antarmuka dan menunya sangat ramah pengguna, sehingga mudah dinavigasi bahkan untuk pemula. Pengalaman saya menggunakan Triv sangat luar biasa—transaksi cepat, fitur yang andal, dan semua yang Anda butuhkan untuk perdagangan aset digital yang lancar. Sangat direkomendasikan!",
         "5",
         "18",
         "8.0.4",
         "2025-06-21 01:28:23",
         null,
         null,
         "8.0.4"
        ],
        [
         "1",
         "b1fa53fe-fc80-4d7c-8fb4-7ada6ed46d0e",
         "Pengguna Google",
         "https://play-lh.googleusercontent.com/EGemoI2NTXmTsBVtJqk8jxF9rh8ApRWfsIMQSt2uE4OcpQqbFu7f7NbTK05lx80nuSijCz7sc3a277R67g",
         "Saya sudah menggunakan Triv selama beberapa bulan dan sangat puas dengan layanannya. Proses beli dan jual aset kripto sangat cepat dan mudah. Antarmuka aplikasinya juga user-friendly, cocok untuk pemula maupun yang sudah berpengalaman. Verifikasi akun cepat, dan customer service responsif ketika saya ada kendala. Fitur-fitur seperti top-up e-wallet dan transfer bank juga sangat praktis. Terpercaya dan recommended banget!",
         "5",
         "10",
         "8.0.4",
         "2025-06-19 14:58:26",
         null,
         null,
         "8.0.4"
        ],
        [
         "2",
         "05d3274d-d0ec-4777-86a3-d3259b91a224",
         "Pengguna Google",
         "https://play-lh.googleusercontent.com/EGemoI2NTXmTsBVtJqk8jxF9rh8ApRWfsIMQSt2uE4OcpQqbFu7f7NbTK05lx80nuSijCz7sc3a277R67g",
         "Saya sudah menggunakan Triv selama beberapa bulan dan sangat puas dengan layanannya. Proses transaksi cepat, user interface-nya ramah pengguna, dan banyak pilihan aset kripto serta e-money. Customer service juga responsif dan membantu. Cocok untuk pemula maupun yang sudah berpengalaman. Aplikasi ini benar-benar memudahkan saya dalam mengelola aset digital dan keuangan. Terus tingkatkan layanannya, Triv! 💪🔥",
         "5",
         "2",
         "8.0.4",
         "2025-06-20 12:19:38",
         null,
         null,
         "8.0.4"
        ],
        [
         "3",
         "63d8f291-045f-4e47-93ab-cc069aad1425",
         "Pengguna Google",
         "https://play-lh.googleusercontent.com/EGemoI2NTXmTsBVtJqk8jxF9rh8ApRWfsIMQSt2uE4OcpQqbFu7f7NbTK05lx80nuSijCz7sc3a277R67g",
         "Aplikasi Triv sangat membantu untuk jual beli aset kripto dengan cepat dan aman. Tampilannya sederhana, jadi mudah digunakan bahkan untuk pemula. Proses transaksi juga cepat dan customer service-nya responsif. Cocok banget buat yang ingin mulai investasi digital!",
         "5",
         "8",
         "8.0.4",
         "2025-06-21 06:22:09",
         null,
         null,
         "8.0.4"
        ],
        [
         "4",
         "bb4df9c8-3276-4259-aa86-526399a86fdb",
         "Pengguna Google",
         "https://play-lh.googleusercontent.com/EGemoI2NTXmTsBVtJqk8jxF9rh8ApRWfsIMQSt2uE4OcpQqbFu7f7NbTK05lx80nuSijCz7sc3a277R67g",
         "Udah pakai Triv selama beberapa bulan dan sangat puas. Proses beli cryptonya cepat dan mudah, spreadnya juga cukup rendah dibanding aplikasi lain. Fitur stakingnya sangat membantu buat dapetin passive income harian. UI/UX nya simpel dan nyaman digunakan, cocok banget buat pemula maupun yang udah terbiasa trading. Update terakhir juga bikin aplikasinya makin lancar dan stabil. Recommended banget! 🔥💯",
         "5",
         "0",
         "8.0.4",
         "2025-06-18 09:50:33",
         null,
         null,
         "8.0.4"
        ]
       ],
       "shape": {
        "columns": 11,
        "rows": 5
       }
      },
      "text/html": [
       "<div>\n",
       "<style scoped>\n",
       "    .dataframe tbody tr th:only-of-type {\n",
       "        vertical-align: middle;\n",
       "    }\n",
       "\n",
       "    .dataframe tbody tr th {\n",
       "        vertical-align: top;\n",
       "    }\n",
       "\n",
       "    .dataframe thead th {\n",
       "        text-align: right;\n",
       "    }\n",
       "</style>\n",
       "<table border=\"1\" class=\"dataframe\">\n",
       "  <thead>\n",
       "    <tr style=\"text-align: right;\">\n",
       "      <th></th>\n",
       "      <th>reviewId</th>\n",
       "      <th>userName</th>\n",
       "      <th>userImage</th>\n",
       "      <th>content</th>\n",
       "      <th>score</th>\n",
       "      <th>thumbsUpCount</th>\n",
       "      <th>reviewCreatedVersion</th>\n",
       "      <th>at</th>\n",
       "      <th>replyContent</th>\n",
       "      <th>repliedAt</th>\n",
       "      <th>appVersion</th>\n",
       "    </tr>\n",
       "  </thead>\n",
       "  <tbody>\n",
       "    <tr>\n",
       "      <th>0</th>\n",
       "      <td>41dff01f-cf34-4128-9369-aad8cc1a0d2e</td>\n",
       "      <td>Pengguna Google</td>\n",
       "      <td>https://play-lh.googleusercontent.com/EGemoI2N...</td>\n",
       "      <td>Triv adalah aplikasi yang luar biasa untuk ber...</td>\n",
       "      <td>5</td>\n",
       "      <td>18</td>\n",
       "      <td>8.0.4</td>\n",
       "      <td>2025-06-21 01:28:23</td>\n",
       "      <td>None</td>\n",
       "      <td>NaT</td>\n",
       "      <td>8.0.4</td>\n",
       "    </tr>\n",
       "    <tr>\n",
       "      <th>1</th>\n",
       "      <td>b1fa53fe-fc80-4d7c-8fb4-7ada6ed46d0e</td>\n",
       "      <td>Pengguna Google</td>\n",
       "      <td>https://play-lh.googleusercontent.com/EGemoI2N...</td>\n",
       "      <td>Saya sudah menggunakan Triv selama beberapa bu...</td>\n",
       "      <td>5</td>\n",
       "      <td>10</td>\n",
       "      <td>8.0.4</td>\n",
       "      <td>2025-06-19 14:58:26</td>\n",
       "      <td>None</td>\n",
       "      <td>NaT</td>\n",
       "      <td>8.0.4</td>\n",
       "    </tr>\n",
       "    <tr>\n",
       "      <th>2</th>\n",
       "      <td>05d3274d-d0ec-4777-86a3-d3259b91a224</td>\n",
       "      <td>Pengguna Google</td>\n",
       "      <td>https://play-lh.googleusercontent.com/EGemoI2N...</td>\n",
       "      <td>Saya sudah menggunakan Triv selama beberapa bu...</td>\n",
       "      <td>5</td>\n",
       "      <td>2</td>\n",
       "      <td>8.0.4</td>\n",
       "      <td>2025-06-20 12:19:38</td>\n",
       "      <td>None</td>\n",
       "      <td>NaT</td>\n",
       "      <td>8.0.4</td>\n",
       "    </tr>\n",
       "    <tr>\n",
       "      <th>3</th>\n",
       "      <td>63d8f291-045f-4e47-93ab-cc069aad1425</td>\n",
       "      <td>Pengguna Google</td>\n",
       "      <td>https://play-lh.googleusercontent.com/EGemoI2N...</td>\n",
       "      <td>Aplikasi Triv sangat membantu untuk jual beli ...</td>\n",
       "      <td>5</td>\n",
       "      <td>8</td>\n",
       "      <td>8.0.4</td>\n",
       "      <td>2025-06-21 06:22:09</td>\n",
       "      <td>None</td>\n",
       "      <td>NaT</td>\n",
       "      <td>8.0.4</td>\n",
       "    </tr>\n",
       "    <tr>\n",
       "      <th>4</th>\n",
       "      <td>bb4df9c8-3276-4259-aa86-526399a86fdb</td>\n",
       "      <td>Pengguna Google</td>\n",
       "      <td>https://play-lh.googleusercontent.com/EGemoI2N...</td>\n",
       "      <td>Udah pakai Triv selama beberapa bulan dan sang...</td>\n",
       "      <td>5</td>\n",
       "      <td>0</td>\n",
       "      <td>8.0.4</td>\n",
       "      <td>2025-06-18 09:50:33</td>\n",
       "      <td>None</td>\n",
       "      <td>NaT</td>\n",
       "      <td>8.0.4</td>\n",
       "    </tr>\n",
       "  </tbody>\n",
       "</table>\n",
       "</div>"
      ],
      "text/plain": [
       "                               reviewId         userName  \\\n",
       "0  41dff01f-cf34-4128-9369-aad8cc1a0d2e  Pengguna Google   \n",
       "1  b1fa53fe-fc80-4d7c-8fb4-7ada6ed46d0e  Pengguna Google   \n",
       "2  05d3274d-d0ec-4777-86a3-d3259b91a224  Pengguna Google   \n",
       "3  63d8f291-045f-4e47-93ab-cc069aad1425  Pengguna Google   \n",
       "4  bb4df9c8-3276-4259-aa86-526399a86fdb  Pengguna Google   \n",
       "\n",
       "                                           userImage  \\\n",
       "0  https://play-lh.googleusercontent.com/EGemoI2N...   \n",
       "1  https://play-lh.googleusercontent.com/EGemoI2N...   \n",
       "2  https://play-lh.googleusercontent.com/EGemoI2N...   \n",
       "3  https://play-lh.googleusercontent.com/EGemoI2N...   \n",
       "4  https://play-lh.googleusercontent.com/EGemoI2N...   \n",
       "\n",
       "                                             content  score  thumbsUpCount  \\\n",
       "0  Triv adalah aplikasi yang luar biasa untuk ber...      5             18   \n",
       "1  Saya sudah menggunakan Triv selama beberapa bu...      5             10   \n",
       "2  Saya sudah menggunakan Triv selama beberapa bu...      5              2   \n",
       "3  Aplikasi Triv sangat membantu untuk jual beli ...      5              8   \n",
       "4  Udah pakai Triv selama beberapa bulan dan sang...      5              0   \n",
       "\n",
       "  reviewCreatedVersion                  at replyContent repliedAt appVersion  \n",
       "0                8.0.4 2025-06-21 01:28:23         None       NaT      8.0.4  \n",
       "1                8.0.4 2025-06-19 14:58:26         None       NaT      8.0.4  \n",
       "2                8.0.4 2025-06-20 12:19:38         None       NaT      8.0.4  \n",
       "3                8.0.4 2025-06-21 06:22:09         None       NaT      8.0.4  \n",
       "4                8.0.4 2025-06-18 09:50:33         None       NaT      8.0.4  "
      ]
     },
     "execution_count": 8,
     "metadata": {},
     "output_type": "execute_result"
    }
   ],
   "source": [
    "df.head()"
   ]
  },
  {
   "cell_type": "code",
   "execution_count": 9,
   "id": "8eaed17e",
   "metadata": {},
   "outputs": [
    {
     "name": "stdout",
     "output_type": "stream",
     "text": [
      "<class 'pandas.core.frame.DataFrame'>\n",
      "RangeIndex: 12665 entries, 0 to 12664\n",
      "Data columns (total 11 columns):\n",
      " #   Column                Non-Null Count  Dtype         \n",
      "---  ------                --------------  -----         \n",
      " 0   reviewId              12665 non-null  object        \n",
      " 1   userName              12665 non-null  object        \n",
      " 2   userImage             12665 non-null  object        \n",
      " 3   content               12665 non-null  object        \n",
      " 4   score                 12665 non-null  int64         \n",
      " 5   thumbsUpCount         12665 non-null  int64         \n",
      " 6   reviewCreatedVersion  9841 non-null   object        \n",
      " 7   at                    12665 non-null  datetime64[ns]\n",
      " 8   replyContent          401 non-null    object        \n",
      " 9   repliedAt             401 non-null    datetime64[ns]\n",
      " 10  appVersion            9841 non-null   object        \n",
      "dtypes: datetime64[ns](2), int64(2), object(7)\n",
      "memory usage: 1.1+ MB\n"
     ]
    }
   ],
   "source": [
    "df.info()"
   ]
  },
  {
   "cell_type": "markdown",
   "id": "aba1e158",
   "metadata": {},
   "source": [
    "Dataset ini berisi 12665  entri ulasan aplikasi dengan 11 kolom. Semua ulasan memiliki reviewId, userName, userImage, content, score, dan thumbsUpCount yang lengkap. Tanggal ulasan (at) juga tersedia untuk semua entri. Namun, beberapa kolom memiliki data yang tidak lengkap, seperti reviewCreatedVersion dan appVersion, yang hanya terisi hanya 9841 baris. Selain itu, hanya 401 ulasan yang mendapat balasan dari pengembang, ditunjukkan oleh replyContent dan repliedAt. Hal ini menunjukkan bahwa sebagian besar ulasan tidak memiliki tanggapan resmi dari pihak aplikasi."
   ]
  },
  {
   "cell_type": "code",
   "execution_count": 10,
   "id": "4398275b",
   "metadata": {},
   "outputs": [],
   "source": [
    "df.to_csv('data/triv.csv', index=False)"
   ]
  }
 ],
 "metadata": {
  "kernelspec": {
   "display_name": "Python 3",
   "language": "python",
   "name": "python3"
  },
  "language_info": {
   "codemirror_mode": {
    "name": "ipython",
    "version": 3
   },
   "file_extension": ".py",
   "mimetype": "text/x-python",
   "name": "python",
   "nbconvert_exporter": "python",
   "pygments_lexer": "ipython3",
   "version": "3.11.9"
  }
 },
 "nbformat": 4,
 "nbformat_minor": 5
}
